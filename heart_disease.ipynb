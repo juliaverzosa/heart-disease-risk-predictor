{
 "cells": [
  {
   "cell_type": "code",
   "execution_count": 7,
   "id": "a8c0ae12",
   "metadata": {},
   "outputs": [],
   "source": [
    "import pandas as pd\n",
    "import numpy as np\n",
    "import json\n",
    "import joblib\n",
    "\n",
    "from sklearn.model_selection import train_test_split\n",
    "from sklearn.pipeline import Pipeline\n",
    "from sklearn.ensemble import RandomForestClassifier\n",
    "from sklearn.preprocessing import StandardScaler, OneHotEncoder\n",
    "from sklearn.compose import ColumnTransformer"
   ]
  },
  {
   "cell_type": "code",
   "execution_count": 8,
   "id": "5adcc7b5",
   "metadata": {},
   "outputs": [
    {
     "name": "stdout",
     "output_type": "stream",
     "text": [
      "Initial shape: (319795, 18)\n",
      "Cleaned shape: (301752, 18)\n"
     ]
    },
    {
     "data": {
      "text/plain": [
       "HeartDisease        0\n",
       "BMI                 0\n",
       "Smoking             0\n",
       "AlcoholDrinking     0\n",
       "Stroke              0\n",
       "PhysicalHealth      0\n",
       "MentalHealth        0\n",
       "DiffWalking         0\n",
       "Sex                 0\n",
       "AgeCategory         0\n",
       "Race                0\n",
       "Diabetic            0\n",
       "PhysicalActivity    0\n",
       "GenHealth           0\n",
       "SleepTime           0\n",
       "Asthma              0\n",
       "KidneyDisease       0\n",
       "SkinCancer          0\n",
       "dtype: int64"
      ]
     },
     "execution_count": 8,
     "metadata": {},
     "output_type": "execute_result"
    }
   ],
   "source": [
    "# load dataset\n",
    "df = pd.read_csv('heart_2020_uncleaned.csv')\n",
    "print(\"Initial shape:\", df.shape)\n",
    "df.head()\n",
    "\n",
    "# data cleaning\n",
    "df.fillna(df.mean(numeric_only=True), inplace=True)\n",
    "\n",
    "for col in df.select_dtypes(include='object').columns:\n",
    "    df[col] = df[col].fillna(df[col].mode()[0])\n",
    "\n",
    "for col in df.select_dtypes(include='object'):\n",
    "    df[col] = df[col].str.strip().str.lower().str.capitalize()\n",
    "\n",
    "\n",
    "df.drop_duplicates(inplace=True)\n",
    "\n",
    "print(\"Cleaned shape:\", df.shape)\n",
    "df.isnull().sum()"
   ]
  },
  {
   "cell_type": "code",
   "execution_count": 9,
   "id": "0df13dc4",
   "metadata": {},
   "outputs": [
    {
     "name": "stdout",
     "output_type": "stream",
     "text": [
      "Numerical Features: ['BMI', 'PhysicalHealth', 'MentalHealth', 'SleepTime']\n",
      "Categorical Features: ['Smoking', 'AlcoholDrinking', 'Stroke', 'DiffWalking', 'Sex', 'AgeCategory', 'Race', 'Diabetic', 'PhysicalActivity', 'GenHealth', 'Asthma', 'KidneyDisease', 'SkinCancer']\n"
     ]
    }
   ],
   "source": [
    "# define features and target\n",
    "target_col = 'HeartDisease' \n",
    "X = df.drop(columns=[target_col])\n",
    "y = df[target_col]\n",
    "\n",
    "# split (num vs. cat)\n",
    "num_feats = X.select_dtypes(include=['int64', 'float64']).columns.tolist()\n",
    "cat_feats = X.select_dtypes(include='object').columns.tolist()\n",
    "\n",
    "print(\"Numerical Features:\", num_feats)\n",
    "print(\"Categorical Features:\", cat_feats)\n"
   ]
  },
  {
   "cell_type": "code",
   "execution_count": 10,
   "id": "2e61eb8f",
   "metadata": {},
   "outputs": [],
   "source": [
    "# preprocessing and pipeline\n",
    "num_transformer = StandardScaler()\n",
    "cat_transformer = OneHotEncoder(handle_unknown='ignore')\n",
    "\n",
    "# column transformer\n",
    "preprocessor = ColumnTransformer([\n",
    "    ('num', num_transformer, num_feats),\n",
    "    ('cat', cat_transformer, cat_feats)\n",
    "])\n",
    "\n",
    "# full pipeline w/ random forest\n",
    "pipe = Pipeline(steps=[\n",
    "    ('pre', preprocessor),\n",
    "    ('clf', RandomForestClassifier(n_estimators=10, random_state=42))\n",
    "])"
   ]
  },
  {
   "cell_type": "code",
   "execution_count": 11,
   "id": "fc3cb649",
   "metadata": {},
   "outputs": [
    {
     "name": "stdout",
     "output_type": "stream",
     "text": [
      "Test Accuracy: 0.90\n"
     ]
    }
   ],
   "source": [
    "# train-test split + model training\n",
    "X_train, X_test, y_train, y_test = train_test_split(\n",
    "    X, y, test_size=0.2, stratify=y, random_state=42\n",
    ")\n",
    "\n",
    "pipe.fit(X_train, y_train)\n",
    "\n",
    "score = pipe.score(X_test, y_test)\n",
    "print(f\"Test Accuracy: {score:.2f}\")"
   ]
  },
  {
   "cell_type": "code",
   "execution_count": 12,
   "id": "8903618f",
   "metadata": {},
   "outputs": [
    {
     "name": "stdout",
     "output_type": "stream",
     "text": [
      "✅ Model and metadata saved!\n"
     ]
    }
   ],
   "source": [
    "# save pipeline and metadata\n",
    "joblib.dump(pipe, 'model_pipeline.pkl')\n",
    "\n",
    "meta = {\n",
    "    'num_feats': num_feats,\n",
    "    'cat_feats': cat_feats\n",
    "}\n",
    "with open('feature_metadata.json', 'w') as f:\n",
    "    json.dump(meta, f)\n",
    "\n",
    "print(\"✅ Model and metadata saved!\")"
   ]
  }
 ],
 "metadata": {
  "kernelspec": {
   "display_name": "Python 3",
   "language": "python",
   "name": "python3"
  },
  "language_info": {
   "codemirror_mode": {
    "name": "ipython",
    "version": 3
   },
   "file_extension": ".py",
   "mimetype": "text/x-python",
   "name": "python",
   "nbconvert_exporter": "python",
   "pygments_lexer": "ipython3",
   "version": "3.13.2"
  }
 },
 "nbformat": 4,
 "nbformat_minor": 5
}
